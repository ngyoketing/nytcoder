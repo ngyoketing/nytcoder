{
  "nbformat": 4,
  "nbformat_minor": 0,
  "metadata": {
    "colab": {
      "name": "L1_20210915.ipynb",
      "provenance": [],
      "collapsed_sections": [],
      "authorship_tag": "ABX9TyPgFUzgi85T4xryIyQUgO3c",
      "include_colab_link": true
    },
    "kernelspec": {
      "name": "python3",
      "display_name": "Python 3"
    },
    "language_info": {
      "name": "python"
    }
  },
  "cells": [
    {
      "cell_type": "markdown",
      "metadata": {
        "id": "view-in-github",
        "colab_type": "text"
      },
      "source": [
        "<a href=\"https://colab.research.google.com/github/ngyoketing/nytcoder/blob/main/L1_20210915.ipynb\" target=\"_parent\"><img src=\"https://colab.research.google.com/assets/colab-badge.svg\" alt=\"Open In Colab\"/></a>"
      ]
    },
    {
      "cell_type": "code",
      "metadata": {
        "id": "eklJ37EKgrnE"
      },
      "source": [
        "# Scalar\n",
        "a = 1 #int\n",
        "b = 4.1 #float\n",
        "\n",
        "# Non-scalar\n",
        "name = 'Yoke Ting' #string\n",
        "M = {1, 3, 6, 9} \n",
        "car = ['Proton','Audi','BMW'] #list(mutable) \n",
        "car = ('Proton','Audi','BMW') #tuple(immutable) \n",
        "car = {'Proton','Audi','BMW'} #set "
      ],
      "execution_count": null,
      "outputs": []
    },
    {
      "cell_type": "code",
      "metadata": {
        "colab": {
          "base_uri": "https://localhost:8080/"
        },
        "id": "ChIVz9Gpoa6E",
        "outputId": "d6514aa5-0d25-4d38-952f-a185a82c3760"
      },
      "source": [
        "# Operators\n",
        "num = 9%2\n",
        "print(num)"
      ],
      "execution_count": null,
      "outputs": [
        {
          "output_type": "stream",
          "name": "stdout",
          "text": [
            "1\n"
          ]
        }
      ]
    },
    {
      "cell_type": "code",
      "metadata": {
        "colab": {
          "base_uri": "https://localhost:8080/"
        },
        "id": "CjZ-Ub8WpZGB",
        "outputId": "01efb256-7ef7-4674-d9e3-d42b5c2e93ff"
      },
      "source": [
        "# Display output\n",
        "print('Hi..Welcome to BEP2073')\n",
        "print(\"Hi..Welcome to BEP2073\")"
      ],
      "execution_count": null,
      "outputs": [
        {
          "output_type": "stream",
          "name": "stdout",
          "text": [
            "Hi..Welcome to BEP2073\n",
            "Hi..Welcome to BEP2073\n"
          ]
        }
      ]
    },
    {
      "cell_type": "code",
      "metadata": {
        "colab": {
          "base_uri": "https://localhost:8080/"
        },
        "id": "d9S--GXq_hwR",
        "outputId": "60512172-60f4-449c-b622-290dcec472f1"
      },
      "source": [
        "# Multiline Strings\n",
        "a = '''I'm Ng Yoke Ting,\n",
        "live in K.L.,\n",
        "nice to meet you all, \n",
        "wish u hav a nice day. '''\n",
        "print(a) "
      ],
      "execution_count": null,
      "outputs": [
        {
          "output_type": "stream",
          "name": "stdout",
          "text": [
            "I'm Ng Yoke Ting,\n",
            "live in K.L.,\n",
            "nice to meet you all, \n",
            "wish u hav a nice day. \n"
          ]
        }
      ]
    },
    {
      "cell_type": "code",
      "metadata": {
        "colab": {
          "base_uri": "https://localhost:8080/"
        },
        "id": "lLod271Bti3a",
        "outputId": "e2f404aa-230c-472c-e034-02fa998a4d0f"
      },
      "source": [
        "a = 1\n",
        "b = 2\n",
        "print(a)\n",
        "print(b)"
      ],
      "execution_count": null,
      "outputs": [
        {
          "output_type": "stream",
          "name": "stdout",
          "text": [
            "1\n",
            "2\n"
          ]
        }
      ]
    },
    {
      "cell_type": "code",
      "metadata": {
        "colab": {
          "base_uri": "https://localhost:8080/"
        },
        "id": "khlq7IZPtgoe",
        "outputId": "e2cd5b7d-26c8-4cbd-b81f-721e740dff6d"
      },
      "source": [
        "# to assign values to multiple variables in one line\n",
        "a,b = 1,2\n",
        "print(a)\n",
        "print(b)"
      ],
      "execution_count": null,
      "outputs": [
        {
          "output_type": "stream",
          "name": "stdout",
          "text": [
            "1\n",
            "2\n"
          ]
        }
      ]
    },
    {
      "cell_type": "code",
      "metadata": {
        "colab": {
          "base_uri": "https://localhost:8080/"
        },
        "id": "llrW3UPDt4QI",
        "outputId": "a82a3c85-abc6-42dd-f772-5e7f5c0f021e"
      },
      "source": [
        "c = a + b\n",
        "print('C =' ,c)\n",
        "\n",
        "d = 4/2\n",
        "print('D = %0.1f' %d)"
      ],
      "execution_count": null,
      "outputs": [
        {
          "output_type": "stream",
          "name": "stdout",
          "text": [
            "C = 3\n",
            "D = 2.0\n"
          ]
        }
      ]
    },
    {
      "cell_type": "code",
      "metadata": {
        "colab": {
          "base_uri": "https://localhost:8080/"
        },
        "id": "0q3AILMtwFGg",
        "outputId": "7c51f3c7-9312-4e58-981d-2f36d9e9cfbf"
      },
      "source": [
        "# input('')\n",
        "Name = input('Type your name: ')\n",
        "print('Welcome',Name)"
      ],
      "execution_count": null,
      "outputs": [
        {
          "output_type": "stream",
          "name": "stdout",
          "text": [
            "Type your name: yt\n",
            "Welcome yt\n"
          ]
        }
      ]
    },
    {
      "cell_type": "code",
      "metadata": {
        "colab": {
          "base_uri": "https://localhost:8080/"
        },
        "id": "9D1GGGHbwWC1",
        "outputId": "08740054-9395-4be2-cb34-e942524e504e"
      },
      "source": [
        "# int()\n",
        "# y = 2x + 1\n",
        "x_val = input(\"Specify value of x:\")\n",
        "x = int(x_val) # to convert from string to int\n",
        "y = 2*x + 1\n",
        "print('y = ',y)"
      ],
      "execution_count": null,
      "outputs": [
        {
          "output_type": "stream",
          "name": "stdout",
          "text": [
            "Specify value of x:2\n",
            "y =  5\n"
          ]
        }
      ]
    },
    {
      "cell_type": "code",
      "metadata": {
        "colab": {
          "base_uri": "https://localhost:8080/"
        },
        "id": "HLp8gNM6wsqs",
        "outputId": "7faa114a-a24d-4f7b-cede-3cdd4f2b7b94"
      },
      "source": [
        "# Exercise 1 method 1\n",
        "x = input(\"x = \")\n",
        "x = int(x)\n",
        "y = x**0.5\n",
        "print(\"square-root of %d is %.2f.\" %(x, y))"
      ],
      "execution_count": null,
      "outputs": [
        {
          "output_type": "stream",
          "name": "stdout",
          "text": [
            "x = 2\n",
            "square-root of 2 is 1.41.\n"
          ]
        }
      ]
    },
    {
      "cell_type": "code",
      "metadata": {
        "colab": {
          "base_uri": "https://localhost:8080/"
        },
        "id": "TXk6G0RZzDV2",
        "outputId": "646463fd-129a-449b-f090-ecab2ad3cc38"
      },
      "source": [
        "# Exercise 1 method 2\n",
        "x = int(input(\"x = \"))\n",
        "y = x**0.5\n",
        "print(\"square-root of %d is %.2f.\" %(x, y))"
      ],
      "execution_count": null,
      "outputs": [
        {
          "output_type": "stream",
          "name": "stdout",
          "text": [
            "x = 2\n",
            "square-root of 2 is 1.41.\n"
          ]
        }
      ]
    },
    {
      "cell_type": "code",
      "metadata": {
        "colab": {
          "base_uri": "https://localhost:8080/"
        },
        "id": "lzzUsYgR0fSE",
        "outputId": "214224f3-707d-42b8-e2da-63ec6347a384"
      },
      "source": [
        "# Google question\n",
        "a = 2\n",
        "x = 3*a + 2\n",
        "y = x**0.15\n",
        "print(\"The answer is\", y)"
      ],
      "execution_count": null,
      "outputs": [
        {
          "output_type": "stream",
          "name": "stdout",
          "text": [
            "The answer is 1.3660402567543954\n"
          ]
        }
      ]
    },
    {
      "cell_type": "code",
      "metadata": {
        "colab": {
          "base_uri": "https://localhost:8080/"
        },
        "id": "EnMqhqjt1bA3",
        "outputId": "d8901c97-b188-4c17-dbf9-4a5f6a01f95c"
      },
      "source": [
        "# Google question\n",
        "# ask the user to enter 2 numbers; a and b. Your program to calculate and display the square root of a/b in a statement with 3 decimal points. \n",
        "a = int(input(\"a = \"))\n",
        "b = int(input(\"b = \"))\n",
        "x = (a/b)**0.5 \n",
        "print(\"The square root of %d/%d is %.3f\" %(a, b, x))"
      ],
      "execution_count": 1,
      "outputs": [
        {
          "output_type": "stream",
          "name": "stdout",
          "text": [
            "a = 4\n",
            "b = 1\n",
            "The square root of 4/1 is 2.000\n"
          ]
        }
      ]
    },
    {
      "cell_type": "markdown",
      "metadata": {
        "id": "6trApcPccZmF"
      },
      "source": [
        "# Exercises"
      ]
    },
    {
      "cell_type": "code",
      "metadata": {
        "colab": {
          "base_uri": "https://localhost:8080/"
        },
        "id": "4b-Z_QlOchvH",
        "outputId": "9bbe6919-6baa-4a4b-8fed-f93580b3540d"
      },
      "source": [
        "# Exercise 1\n",
        "radius = 1.2 \n",
        "import math\n",
        "print(math.pi) # to get pi value\n",
        "area_of_circle = (math.pi)*radius**2\n",
        "print('The area of circle is', area_of_circle)"
      ],
      "execution_count": null,
      "outputs": [
        {
          "output_type": "stream",
          "name": "stdout",
          "text": [
            "3.141592653589793\n",
            "The area of circle is 4.523893421169302\n"
          ]
        }
      ]
    },
    {
      "cell_type": "code",
      "metadata": {
        "id": "82-s_RmsgpF_",
        "colab": {
          "base_uri": "https://localhost:8080/"
        },
        "outputId": "c5f2912d-9eb9-4f63-d7fe-02e77606f833"
      },
      "source": [
        "# Exercise 2\n",
        "first_name = input('Enter your first name: ')\n",
        "last_name = input('Enter your last name: ')\n",
        "print(last_name + \" \" + first_name)"
      ],
      "execution_count": null,
      "outputs": [
        {
          "output_type": "stream",
          "name": "stdout",
          "text": [
            "Enter your first name: yt\n",
            "Enter your last name: ng\n",
            "ng yt\n"
          ]
        }
      ]
    },
    {
      "cell_type": "code",
      "metadata": {
        "colab": {
          "base_uri": "https://localhost:8080/"
        },
        "id": "lvcst3m51UFr",
        "outputId": "7f712d64-8d13-479f-8ae0-97c429f1e2ac"
      },
      "source": [
        "first_name = input('Enter your first name: ')\n",
        "last_name = input('Enter your last name: ')\n",
        "name = f'{last_name} {first_name}' #curlybraces{} to define place holders for variables in the strings \n",
        "print(name)"
      ],
      "execution_count": null,
      "outputs": [
        {
          "output_type": "stream",
          "name": "stdout",
          "text": [
            "Enter your first name: yt\n",
            "Enter your last name: ng\n",
            "ng yt\n"
          ]
        }
      ]
    },
    {
      "cell_type": "code",
      "metadata": {
        "colab": {
          "base_uri": "https://localhost:8080/"
        },
        "id": "WduMfkW5xJNZ",
        "outputId": "3b8dbbab-538b-4fbb-9d70-9bd1f3890a7f"
      },
      "source": [
        "name = str(input('Enter your name: '))\n",
        "split = name.split(' ')\n",
        "split.reverse()\n",
        "print(f'Reversed name: {\" \".join(split)}')"
      ],
      "execution_count": null,
      "outputs": [
        {
          "output_type": "stream",
          "name": "stdout",
          "text": [
            "Enter your name: ng yoke ting\n",
            "Reversed name: ting yoke ng\n"
          ]
        }
      ]
    },
    {
      "cell_type": "code",
      "metadata": {
        "colab": {
          "base_uri": "https://localhost:8080/"
        },
        "id": "Nj2tTJ7OIi7K",
        "outputId": "61441511-e75e-469f-e960-aeddcbf550a8"
      },
      "source": [
        "name = input('Enter your name: ')\n",
        "split = name.split() #split() \n",
        "split.reverse() #reverse() \n",
        "joined = ' '.join(split)\n",
        "print('Reversed name:', joined) "
      ],
      "execution_count": null,
      "outputs": [
        {
          "output_type": "stream",
          "name": "stdout",
          "text": [
            "Enter your name: ng yoke ting\n",
            "Reversed name: ting yoke ng\n"
          ]
        }
      ]
    },
    {
      "cell_type": "code",
      "metadata": {
        "colab": {
          "base_uri": "https://localhost:8080/"
        },
        "id": "qouxc65DYyw_",
        "outputId": "e0f46b78-a84f-4f1b-c5d2-f5a2add79cab"
      },
      "source": [
        "# Exercise 4 \n",
        "sentence = 'UCSI University is a comprehensive university in Kuala Lumpur, Malaysia.'\n",
        "sentence = sentence.casefold() #lowercase\n",
        "\n",
        "vowel = 0\n",
        "for alphabet in sentence:\n",
        "  if alphabet in ('a',\"e\",\"i\",\"o\",\"u\"):\n",
        "    vowel += 1\n",
        "print('The total number of vowel is', vowel) "
      ],
      "execution_count": null,
      "outputs": [
        {
          "output_type": "stream",
          "name": "stdout",
          "text": [
            "The total number of vowel is 27\n"
          ]
        }
      ]
    },
    {
      "cell_type": "code",
      "metadata": {
        "colab": {
          "base_uri": "https://localhost:8080/"
        },
        "id": "UVKaYSM7WofD",
        "outputId": "44d6fa5e-38e5-40ee-cb30-ba1c47458001"
      },
      "source": [
        "# Exercise 5\n",
        "x = 5\n",
        "print('The value of x is %d.' %x)"
      ],
      "execution_count": null,
      "outputs": [
        {
          "output_type": "stream",
          "name": "stdout",
          "text": [
            "The value of x is 5.\n"
          ]
        }
      ]
    },
    {
      "cell_type": "code",
      "metadata": {
        "id": "rVB7r2-hX_SE",
        "colab": {
          "base_uri": "https://localhost:8080/"
        },
        "outputId": "8287b40f-263c-48b7-9127-a652eb09c56b"
      },
      "source": [
        "# Exercise 3\n",
        "count = 10\n",
        "multiplication = 0\n",
        "\n",
        "if count < 10:\n",
        "  values = int(input('Enter the value: '))\n",
        "  for value in values:\n",
        "    multiplication = multiplication * value\n",
        "    \n",
        "print(multiplication)"
      ],
      "execution_count": null,
      "outputs": [
        {
          "output_type": "stream",
          "name": "stdout",
          "text": [
            "0\n"
          ]
        }
      ]
    },
    {
      "cell_type": "code",
      "metadata": {
        "id": "dCXquqirglw9",
        "colab": {
          "base_uri": "https://localhost:8080/"
        },
        "outputId": "9c724693-57e5-49b1-9e25-e0257c70a60b"
      },
      "source": [
        "# Exercise 6\n",
        "X = [10, 20, 20, 20]\n",
        "Y = [10, 25, 30, 40]\n",
        "total_possible_match = 0\n",
        "\n",
        "for xvalue in X:\n",
        "  for yvalue in Y: \n",
        "    Z = xvalue + yvalue\n",
        "    if Z > 50:\n",
        "      total_possible_match += 1\n",
        "print(total_possible_match)"
      ],
      "execution_count": null,
      "outputs": [
        {
          "output_type": "stream",
          "name": "stdout",
          "text": [
            "3\n"
          ]
        }
      ]
    }
  ]
}